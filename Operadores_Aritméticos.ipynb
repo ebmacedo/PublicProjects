{
  "nbformat": 4,
  "nbformat_minor": 0,
  "metadata": {
    "colab": {
      "name": "Operadores Aritméticos.ipynb",
      "provenance": [],
      "collapsed_sections": []
    },
    "kernelspec": {
      "name": "python3",
      "display_name": "Python 3"
    }
  },
  "cells": [
    {
      "cell_type": "markdown",
      "metadata": {
        "id": "5sD7GjVVSSc5",
        "colab_type": "text"
      },
      "source": [
        "# Introdução ao Python\n",
        "\n",
        "## Operadores Aritméticos\n",
        "\n",
        "Nesta aula, vou te mostrar quais são os operadores aritméticos do Python, além da sua ordem de precedência quando compondo uma expressão matemática.\n",
        "\n",
        "Os operadores aritméticos do Python são:\n",
        "\n",
        "* `+` Adição\n",
        "* `-` Subtração\n",
        "* `*` Multiplicação\n",
        "* `/` Divisão\n",
        "* `**` Exponenciação\n",
        "* `//` Divisão (resultado inteiro)\n",
        "\n",
        "Abaixo, podemos ver exemplos de uso desses operadores."
      ]
    },
    {
      "cell_type": "code",
      "metadata": {
        "id": "8IwDiibkUF1o",
        "colab_type": "code",
        "outputId": "bc5e68ab-7037-4251-8578-52e21bfcffb4",
        "colab": {
          "base_uri": "https://localhost:8080/",
          "height": 35
        }
      },
      "source": [
        "# adição\n",
        "13 + 45 + 89 + 90"
      ],
      "execution_count": 1,
      "outputs": [
        {
          "output_type": "execute_result",
          "data": {
            "text/plain": [
              "237"
            ]
          },
          "metadata": {
            "tags": []
          },
          "execution_count": 1
        }
      ]
    },
    {
      "cell_type": "code",
      "metadata": {
        "id": "hX-rwGYCWezE",
        "colab_type": "code",
        "outputId": "2678991a-57d5-4603-cc41-f23994596761",
        "colab": {
          "base_uri": "https://localhost:8080/",
          "height": 35
        }
      },
      "source": [
        "# subtração\n",
        "87 - 700"
      ],
      "execution_count": 2,
      "outputs": [
        {
          "output_type": "execute_result",
          "data": {
            "text/plain": [
              "-613"
            ]
          },
          "metadata": {
            "tags": []
          },
          "execution_count": 2
        }
      ]
    },
    {
      "cell_type": "code",
      "metadata": {
        "id": "difWa1hYWe8G",
        "colab_type": "code",
        "outputId": "ded8c260-27d4-4c67-d70b-22bae2c183cb",
        "colab": {
          "base_uri": "https://localhost:8080/",
          "height": 35
        }
      },
      "source": [
        "# multiplicação\n",
        "7 * 10"
      ],
      "execution_count": 3,
      "outputs": [
        {
          "output_type": "execute_result",
          "data": {
            "text/plain": [
              "70"
            ]
          },
          "metadata": {
            "tags": []
          },
          "execution_count": 3
        }
      ]
    },
    {
      "cell_type": "code",
      "metadata": {
        "id": "aS_2zy7EWfGS",
        "colab_type": "code",
        "outputId": "084293d8-bb60-48e3-a554-21d4927bd9a9",
        "colab": {
          "base_uri": "https://localhost:8080/",
          "height": 35
        }
      },
      "source": [
        "# divisão\n",
        "70 / 3"
      ],
      "execution_count": 4,
      "outputs": [
        {
          "output_type": "execute_result",
          "data": {
            "text/plain": [
              "23.333333333333332"
            ]
          },
          "metadata": {
            "tags": []
          },
          "execution_count": 4
        }
      ]
    },
    {
      "cell_type": "code",
      "metadata": {
        "id": "NmYClsMRWgvE",
        "colab_type": "code",
        "outputId": "371b26f2-b552-4ce5-d796-b44ba6ee26d7",
        "colab": {
          "base_uri": "https://localhost:8080/",
          "height": 35
        }
      },
      "source": [
        "# divisão (resultado inteiro)\n",
        "70 // 3"
      ],
      "execution_count": 5,
      "outputs": [
        {
          "output_type": "execute_result",
          "data": {
            "text/plain": [
              "23"
            ]
          },
          "metadata": {
            "tags": []
          },
          "execution_count": 5
        }
      ]
    },
    {
      "cell_type": "code",
      "metadata": {
        "id": "bSJLtcQUWfQJ",
        "colab_type": "code",
        "outputId": "649264a2-98bd-4166-9ede-b09f2b458b32",
        "colab": {
          "base_uri": "https://localhost:8080/",
          "height": 35
        }
      },
      "source": [
        "# exponenciação\n",
        "7 ** 2"
      ],
      "execution_count": 6,
      "outputs": [
        {
          "output_type": "execute_result",
          "data": {
            "text/plain": [
              "49"
            ]
          },
          "metadata": {
            "tags": []
          },
          "execution_count": 6
        }
      ]
    },
    {
      "cell_type": "markdown",
      "metadata": {
        "id": "UIDcLOrxUhc2",
        "colab_type": "text"
      },
      "source": [
        "## Ordem de precedência\n",
        "\n",
        "Se já faz um tempo desde o seu último contato com a matemática, vale a pena relembrarmos a ordem correta das operações matemáticas.\n",
        "\n",
        "$$\n",
        "\\begin{aligned}\n",
        "x & = 3 + 10 * 3 \\\\\n",
        "x & = 3 + (10 * 3) \\\\\n",
        "x & = 3 + 30 \\\\\n",
        "x & = 33\n",
        "\\end{aligned}\n",
        "$$\n",
        "\n",
        "Lembre-se que a ordem das operações matemáticas é:\n",
        "\n",
        "* 1º Parêntesis;\n",
        "* 2º Expoentes;\n",
        "* 3º Multiplicações e Divisões; (da esquerda para a direita)\n",
        "* 4º Somas e Subtrações. (da esquerda para a direita)\n",
        "\n",
        "Vamos ver como isso funciona na prática com Python."
      ]
    },
    {
      "cell_type": "code",
      "metadata": {
        "id": "mqoGe3Ov0MTa",
        "colab_type": "code",
        "outputId": "5f34a513-7196-4c19-c061-e53eaec55963",
        "colab": {
          "base_uri": "https://localhost:8080/",
          "height": 35
        }
      },
      "source": [
        "# primeiro é resolvida a multiplicação e depois a subtração\n",
        "10 * 3"
      ],
      "execution_count": 7,
      "outputs": [
        {
          "output_type": "execute_result",
          "data": {
            "text/plain": [
              "30"
            ]
          },
          "metadata": {
            "tags": []
          },
          "execution_count": 7
        }
      ]
    },
    {
      "cell_type": "code",
      "metadata": {
        "id": "A-zS3HT3VaQ4",
        "colab_type": "code",
        "outputId": "330dc6f4-1808-4962-fa77-3bda24f44459",
        "colab": {
          "base_uri": "https://localhost:8080/",
          "height": 35
        }
      },
      "source": [
        "# multiplicamos, e depois somamos o resultado\n",
        "3 + 30"
      ],
      "execution_count": 8,
      "outputs": [
        {
          "output_type": "execute_result",
          "data": {
            "text/plain": [
              "33"
            ]
          },
          "metadata": {
            "tags": []
          },
          "execution_count": 8
        }
      ]
    },
    {
      "cell_type": "markdown",
      "metadata": {
        "id": "z-5iRQaqW2rK",
        "colab_type": "text"
      },
      "source": [
        "Mesmo acrescentando um pouquinho mais de complexidade, o Python consegue lidar com extrema facilidade, cabendo a nós termos atenção às operações realizadas.\n",
        "\n",
        "$$\n",
        "\\begin{aligned}\n",
        "x & = 5 + 9 - 2^2 + \\frac{9}{3} \\\\\n",
        "x & = 5 + 9 - 4 + \\frac{9}{3} \\\\\n",
        "x & = 5 + 9 - 4 + 3 \\\\\n",
        "x & = 14 - 4 + 3 \\\\\n",
        "x & = 10 + 3 \\\\\n",
        "x & = 13 \\\\\n",
        "\\end{aligned}\n",
        "$$\n",
        "\n"
      ]
    },
    {
      "cell_type": "code",
      "metadata": {
        "id": "kTZcYeg0YyLi",
        "colab_type": "code",
        "outputId": "c971586f-2dae-4286-a735-3c371a2f3c90",
        "colab": {
          "base_uri": "https://localhost:8080/",
          "height": 35
        }
      },
      "source": [
        "# resolução da equiação acima usando Python\n",
        "5 + 9 - 2**2 + 9/3"
      ],
      "execution_count": 9,
      "outputs": [
        {
          "output_type": "execute_result",
          "data": {
            "text/plain": [
              "13.0"
            ]
          },
          "metadata": {
            "tags": []
          },
          "execution_count": 9
        }
      ]
    },
    {
      "cell_type": "code",
      "metadata": {
        "id": "bYnc7s00OZ0r",
        "colab_type": "code",
        "colab": {
          "base_uri": "https://localhost:8080/",
          "height": 35
        },
        "outputId": "62e5ed21-0392-4606-a459-b9cd37e38c37"
      },
      "source": [
        "5 + 9 - (2**2) + (9/3)"
      ],
      "execution_count": 10,
      "outputs": [
        {
          "output_type": "execute_result",
          "data": {
            "text/plain": [
              "13.0"
            ]
          },
          "metadata": {
            "tags": []
          },
          "execution_count": 10
        }
      ]
    },
    {
      "cell_type": "markdown",
      "metadata": {
        "id": "WR4ng26uVb-H",
        "colab_type": "text"
      },
      "source": [
        "Expressões maiores podem confundir, então o segredo é anotar a correta ordem de execução das operações matemáticas:\n",
        "\n",
        "1. Parêntesis\n",
        "2. Expoentes\n",
        "3. Multiplicações e Divisões (esquerda para a direita)\n",
        "4. Somas e subtrações (esquerda para a direita)\n",
        "\n",
        "#### Exemplo 1\n",
        "\n",
        "Calcula a média simples das notas das 3 provas de matemática\n",
        "* Nota 1 = 8,5\n",
        "* Nota 2 = 9,2\n",
        "* Nota 3 = 7,5"
      ]
    },
    {
      "cell_type": "code",
      "metadata": {
        "id": "jhwL0H9IZaWN",
        "colab_type": "code",
        "outputId": "4460795b-5524-4464-b7e1-5f9ded19b76e",
        "colab": {
          "base_uri": "https://localhost:8080/",
          "height": 35
        }
      },
      "source": [
        "# resposta\n",
        "(8.5 + 9.2 + 7.5) / 3"
      ],
      "execution_count": 11,
      "outputs": [
        {
          "output_type": "execute_result",
          "data": {
            "text/plain": [
              "8.4"
            ]
          },
          "metadata": {
            "tags": []
          },
          "execution_count": 11
        }
      ]
    },
    {
      "cell_type": "markdown",
      "metadata": {
        "id": "NIjH5tqKaGrX",
        "colab_type": "text"
      },
      "source": [
        "#### Exemplo 2\n",
        "\n",
        "Qual a área de \n",
        "\n",
        "* O volume de uma esfera é calculada por meio da expressão $V = \\frac{4}{3} \\pi r^3$.\n",
        "* Calcule o volume de uma esfera de 5 metros?"
      ]
    },
    {
      "cell_type": "code",
      "metadata": {
        "id": "RY1xwXd6ZxDl",
        "colab_type": "code",
        "outputId": "efef5528-afbf-4b44-a93a-ad9e9cdf60db",
        "colab": {
          "base_uri": "https://localhost:8080/",
          "height": 35
        }
      },
      "source": [
        "# resposta\n",
        "4/3 * 3.14 * 5 ** 3"
      ],
      "execution_count": 12,
      "outputs": [
        {
          "output_type": "execute_result",
          "data": {
            "text/plain": [
              "523.3333333333334"
            ]
          },
          "metadata": {
            "tags": []
          },
          "execution_count": 12
        }
      ]
    },
    {
      "cell_type": "code",
      "metadata": {
        "id": "W2HSOxqvPA6F",
        "colab_type": "code",
        "colab": {
          "base_uri": "https://localhost:8080/",
          "height": 35
        },
        "outputId": "d2325886-aa4e-48cb-8e5a-990f66c9a871"
      },
      "source": [
        "# resposta\n",
        "(4/3) * (3.14) * (5 ** 3)"
      ],
      "execution_count": 13,
      "outputs": [
        {
          "output_type": "execute_result",
          "data": {
            "text/plain": [
              "523.3333333333334"
            ]
          },
          "metadata": {
            "tags": []
          },
          "execution_count": 13
        }
      ]
    },
    {
      "cell_type": "markdown",
      "metadata": {
        "id": "3QRnB_zk_0ON",
        "colab_type": "text"
      },
      "source": [
        "## Exercícios\n",
        "\n",
        "Agora que vimos como utilizar os operadores, vamos resolver algumas equações.\n"
      ]
    },
    {
      "cell_type": "markdown",
      "metadata": {
        "id": "xUIKEVo2A73V",
        "colab_type": "text"
      },
      "source": [
        "#### Exercício 1\n",
        "\n",
        "Calcule:\n",
        "$$\n",
        "\\begin{aligned}\n",
        "x & = 15 - 5 + 3^2 \\\\\n",
        "\\end{aligned}\n",
        "$$"
      ]
    },
    {
      "cell_type": "code",
      "metadata": {
        "id": "EZ8rnqrK1K0L",
        "colab_type": "code",
        "colab": {}
      },
      "source": [
        "# resposta\n"
      ],
      "execution_count": 0,
      "outputs": []
    },
    {
      "cell_type": "code",
      "metadata": {
        "id": "L_tEZCEYBlGd",
        "colab_type": "code",
        "cellView": "form",
        "colab": {}
      },
      "source": [
        "#@title Solução\n",
        "15 - 5 + (3**2)"
      ],
      "execution_count": 0,
      "outputs": []
    },
    {
      "cell_type": "markdown",
      "metadata": {
        "id": "KKtUUwTRCPD0",
        "colab_type": "text"
      },
      "source": [
        "#### Exercício 2\n",
        "\n",
        "Calcule:\n",
        "\n",
        "$$\n",
        "\\begin{aligned}\n",
        "x & = 20 + 5  /  7 * 9 \\\\\n",
        "\\end{aligned}\n",
        "$$"
      ]
    },
    {
      "cell_type": "code",
      "metadata": {
        "id": "3Mw8i0clBtN0",
        "colab_type": "code",
        "colab": {}
      },
      "source": [
        "# resposta\n"
      ],
      "execution_count": 0,
      "outputs": []
    },
    {
      "cell_type": "code",
      "metadata": {
        "id": "hvkeoY0pByiP",
        "colab_type": "code",
        "cellView": "form",
        "colab": {}
      },
      "source": [
        "#@title Solução\n",
        "(20+5) / (7*9)"
      ],
      "execution_count": 0,
      "outputs": []
    },
    {
      "cell_type": "markdown",
      "metadata": {
        "id": "P5tfTUo9DIsQ",
        "colab_type": "text"
      },
      "source": [
        "#### Exercício 3\n",
        "\n",
        "Calcule:\n",
        "\n",
        "$$\n",
        "\\begin{aligned}\n",
        "x & = 17 * 3  - 4^2  / 3 \\\\\n",
        "\\end{aligned}\n",
        "$$"
      ]
    },
    {
      "cell_type": "code",
      "metadata": {
        "id": "vNwc8aLMD1u3",
        "colab_type": "code",
        "colab": {}
      },
      "source": [
        "# resposta\n"
      ],
      "execution_count": 0,
      "outputs": []
    },
    {
      "cell_type": "code",
      "metadata": {
        "id": "F_fhVYzHC25y",
        "colab_type": "code",
        "cellView": "form",
        "colab": {}
      },
      "source": [
        "#@title Solução\n",
        "(17*3) - (4**2 /3)"
      ],
      "execution_count": 0,
      "outputs": []
    }
  ]
}